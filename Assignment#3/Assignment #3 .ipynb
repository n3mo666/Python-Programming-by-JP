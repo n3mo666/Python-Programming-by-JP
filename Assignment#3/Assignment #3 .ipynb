{
 "cells": [
  {
   "cell_type": "code",
   "execution_count": 17,
   "id": "4e29d28b",
   "metadata": {},
   "outputs": [
    {
     "name": "stdout",
     "output_type": "stream",
     "text": [
      "Twinkle, twinkle, little star,\n",
      "\tHow I wonder what you are! \n",
      "\t\tUp above the world so high, \n",
      "\t\tLike a diamond in the sky. \n",
      "Twinkle, twinkle, little star, \n",
      "\tHow I wonder what you are!\n"
     ]
    }
   ],
   "source": [
    "\"\"\"\"1. Write a Python program to print the following string in a specific format (see the\n",
    "output Twinkle, twinkle, little star,\n",
    "How I wonder what you are!\n",
    "Up above the world so high,\n",
    "Like a diamond in the sky.\n",
    "\n",
    "Twinkle, twinkle, little star,\n",
    "How I wonder what you are\"\"\"\n",
    "print(\"Twinkle, twinkle, little star,\\n\\tHow I wonder what you are! \\n\\t\\tUp above the world so high, \\n\\t\\tLike a diamond in the sky. \\nTwinkle, twinkle, little star, \\n\\tHow I wonder what you are!\");\n"
   ]
  },
  {
   "cell_type": "code",
   "execution_count": 78,
   "id": "b71b5b07",
   "metadata": {},
   "outputs": [
    {
     "name": "stdout",
     "output_type": "stream",
     "text": [
      "3.8.8 (default, Apr 13 2021, 15:08:03) [MSC v.1916 64 bit (AMD64)]\n"
     ]
    }
   ],
   "source": [
    "#2. Write a Python program to get the Python version you are using\n",
    "print (sys.version);"
   ]
  },
  {
   "cell_type": "code",
   "execution_count": 42,
   "id": "4f4b1b45",
   "metadata": {},
   "outputs": [
    {
     "name": "stdout",
     "output_type": "stream",
     "text": [
      "Current date and time :\n",
      "2021-10-24 06:23:54.999196\n"
     ]
    }
   ],
   "source": [
    "#3. Write a Python program to display the current date and time.\n",
    "current = datetime.datetime.now()\n",
    "print (\"Current date and time :\");\n",
    "print (current);"
   ]
  },
  {
   "cell_type": "code",
   "execution_count": 54,
   "id": "214f038d",
   "metadata": {},
   "outputs": [
    {
     "name": "stdout",
     "output_type": "stream",
     "text": [
      "Enter the radius of the circle : 3\n",
      "Area of the circle is = \n",
      "28.26\n"
     ]
    }
   ],
   "source": [
    "#4. Write a Python program which accepts the radius of a circle from the user and compute the area.\n",
    "pi = 3.14\n",
    "r = int(input (\"Enter the radius of the circle : \"));\n",
    "print (\"Area of the circle is = \")\n",
    "print (pi * r**2);"
   ]
  },
  {
   "cell_type": "code",
   "execution_count": 59,
   "id": "c12d3fd9",
   "metadata": {},
   "outputs": [
    {
     "name": "stdout",
     "output_type": "stream",
     "text": [
      "Input your First Name : abdullah\n",
      "Input your Last Name : dildar\n",
      "dildar abdullah\n"
     ]
    }
   ],
   "source": [
    "#5. Write a Python program which accepts the user's first and last name \n",
    "#and print them inreverse order with a space between them.\n",
    "fn = input(\"Input your First Name : \");\n",
    "ln = input(\"Input your Last Name : \");\n",
    "print (ln + \" \" + fn);"
   ]
  },
  {
   "cell_type": "code",
   "execution_count": 62,
   "id": "0c67fb37",
   "metadata": {},
   "outputs": [
    {
     "name": "stdout",
     "output_type": "stream",
     "text": [
      "Enter a value33\n",
      "Enter a value33\n",
      "66\n"
     ]
    }
   ],
   "source": [
    "#6. Write a python program which takes two inputs from user and print them addition\n",
    "x = int(input(\"Enter a value\"));\n",
    "y = int(input(\"Enter a value\"));\n",
    "print( x + y );"
   ]
  },
  {
   "cell_type": "code",
   "execution_count": 76,
   "id": "9776642c",
   "metadata": {
    "scrolled": true
   },
   "outputs": [
    {
     "name": "stdout",
     "output_type": "stream",
     "text": [
      "Enter the Value 88\n",
      "Enter the Value 88\n",
      "Enter the Value 7\n",
      "Enter the Value 8\n",
      "Enter the Value 7\n",
      "198\n",
      "39.6\n",
      "E\n"
     ]
    }
   ],
   "source": [
    "#7. Write a program which takes 5 inputs from user for different subject’s marks, total it\n",
    "#and generate mark sheet using grades ?\n",
    "Eng = int(input(\"Enter the Value \"));\n",
    "Ist = int(input(\"Enter the Value \")); \n",
    "Maths = int(input(\"Enter the Value \"));\n",
    "Urdu = int(input(\"Enter the Value \"));\n",
    "Science = int(input(\"Enter the Value \")); \n",
    "Total_Obt_Marks = Eng + Ist + Maths + Urdu + Science\n",
    "print (Total_Obt_Marks);\n",
    "Total_Marks = 500 \n",
    "percentage = Total_Obt_Marks / Total_Marks * 100\n",
    "print(percentage);\n",
    "if percentage > 100 or percentage < 0:\n",
    "    print(\"Unacceptable Percentage\")\n",
    "elif percentage < 100 and percentage >= 80:\n",
    "    print(\"A+\")\n",
    "elif percentage < 80 and percentage >= 70:\n",
    "    print(\"A\")\n",
    "elif percentage < 70 and percentage >= 60:\n",
    "    print(\"B\")\n",
    "elif percentage < 60 and percentage >= 50:\n",
    "    print(\"C\")\n",
    "elif percentage < 50 and percentage >= 40:\n",
    "    print(\"D\")\n",
    "elif percentage < 40 and percentage >= 33:\n",
    "    print(\"E\")\n",
    "else:\n",
    "    print(\"Fail\") "
   ]
  },
  {
   "cell_type": "code",
   "execution_count": 80,
   "id": "400ac8d7",
   "metadata": {},
   "outputs": [
    {
     "name": "stdout",
     "output_type": "stream",
     "text": [
      "Enter a number: 44\n",
      "It is Even\n"
     ]
    }
   ],
   "source": [
    "#8. Write a program which take input from user and identify that the given number is even or odd?\n",
    "num = int(input(\"Enter a number: \"));\n",
    "if (num % 2) == 0:\n",
    "   print(\"It is an Even number\");\n",
    "else:\n",
    "   print(\"It is an Odd number\");"
   ]
  },
  {
   "cell_type": "code",
   "execution_count": 81,
   "id": "386623cc",
   "metadata": {},
   "outputs": [
    {
     "name": "stdout",
     "output_type": "stream",
     "text": [
      "The length of list is:  8\n"
     ]
    }
   ],
   "source": [
    "#9. Write a program which print the length of the list?\n",
    "list = len([1 , 2, 3 ,4 ,5 ,6 , 7 , \"hi\"])\n",
    "print(\"The length of list is: \", list);"
   ]
  },
  {
   "cell_type": "code",
   "execution_count": 90,
   "id": "e4e0b686",
   "metadata": {},
   "outputs": [
    {
     "name": "stdout",
     "output_type": "stream",
     "text": [
      "Sum of all elements in the list =  347\n"
     ]
    }
   ],
   "source": [
    "#10.Write a Python program to sum all the numeric items in a list?\n",
    "list1 = [110, 50, 107, 10, 70]\n",
    "total = sum(list1);\n",
    "print(\"Sum of all elements in the list = \",total);\n",
    "\n"
   ]
  },
  {
   "cell_type": "code",
   "execution_count": 93,
   "id": "1d423e27",
   "metadata": {},
   "outputs": [
    {
     "name": "stdout",
     "output_type": "stream",
     "text": [
      "Largest element = 280\n"
     ]
    }
   ],
   "source": [
    "#11.Write a Python program to get the largest number from a numeric list.\n",
    "list = [10, 280, 74, 45, 60];\n",
    "print(\"Largest element =\", max(list));"
   ]
  },
  {
   "cell_type": "code",
   "execution_count": 102,
   "id": "ab0e0690",
   "metadata": {},
   "outputs": [
    {
     "name": "stdout",
     "output_type": "stream",
     "text": [
      "1\n",
      "1\n",
      "2\n",
      "3\n"
     ]
    }
   ],
   "source": [
    "#12. Take a list, say for example this one:\n",
    "#a = [1, 1, 2, 3, 5, 8, 13, 21, 34, 55, 89]\n",
    "#Write a program that prints out all the elements of the list that are less than 5.\n",
    "a = [1, 1, 2, 3, 5, 8, 13, 21, 34, 55, 89];\n",
    "for i in a:\n",
    "    if i < 5:\n",
    "        print(i);"
   ]
  }
 ],
 "metadata": {
  "kernelspec": {
   "display_name": "Python 3",
   "language": "python",
   "name": "python3"
  },
  "language_info": {
   "codemirror_mode": {
    "name": "ipython",
    "version": 3
   },
   "file_extension": ".py",
   "mimetype": "text/x-python",
   "name": "python",
   "nbconvert_exporter": "python",
   "pygments_lexer": "ipython3",
   "version": "3.8.8"
  }
 },
 "nbformat": 4,
 "nbformat_minor": 5
}
